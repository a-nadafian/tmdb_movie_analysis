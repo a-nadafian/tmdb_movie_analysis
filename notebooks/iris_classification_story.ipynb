{
  "cells": [
    {
      "cell_type": "markdown",
      "metadata": {},
      "source": [
        "# The Tale of the Iris Flower: A Classification Adventure\n",
        "\n",
        "**Introduction:** Once upon a time, in the world of data, there existed a famous dataset known as the Iris dataset. It holds the measurements of three different species of Iris flowers: Setosa, Versicolor, and Virginica. Our quest is to build a magical model that can predict the species of an Iris flower based on its measurements.\n"
      ]
    },
    {
      "cell_type": "markdown",
      "metadata": {},
      "source": [
        "## Chapter 1: Gathering the Seeds (Loading the Data)\n",
        "\n",
        "First, we need to import our tools and load the dataset. These libraries are our trusty companions on this journey.\n"
      ]
    },
    {
      "cell_type": "code",
      "execution_count": null,
      "metadata": {},
      "outputs": [],
      "source": [
        "import pandas as pd\n",
        "import seaborn as sns\n",
        "import matplotlib.pyplot as plt\n",
        "import os\n",
        "\n",
        "input_path = os.path.join('..', 'data', 'raw')\n",
        "output_path = os.path.join('..', 'data', 'processed')\n"
      ]
    },
    {
      "cell_type": "markdown",
      "metadata": {},
      "source": [
        "Now, let's plant our seeds by reading the `IRIS.csv` file. We'll take a peek at the first few rows to see what our data looks like.\n"
      ]
    },
    {
      "cell_type": "code",
      "execution_count": null,
      "metadata": {},
      "outputs": [],
      "source": [
        "flower_df = pd.read_csv(os.path.join(input_path, 'IRIS.csv'))\n",
        "flower_df.head()\n"
      ]
    },
    {
      "cell_type": "markdown",
      "metadata": {},
      "source": [
        "## Chapter 2: The First Bloom (Exploring the Data)\n",
        "\n",
        "Our seeds have sprouted! Let's examine our data to understand its structure and characteristics.\n"
      ]
    },
    {
      "cell_type": "code",
      "execution_count": null,
      "metadata": {},
      "outputs": [],
      "source": [
        "flower_df.info()\n"
      ]
    },
    {
      "cell_type": "markdown",
      "metadata": {},
      "source": [
        "We have 150 flowers in our garden, with 50 of each species. A perfectly balanced dataset!\n"
      ]
    },
    {
      "cell_type": "code",
      "execution_count": null,
      "metadata": {},
      "outputs": [],
      "source": [
        "flower_df.value_counts('species')\n"
      ]
    },
    {
      "cell_type": "markdown",
      "metadata": {},
      "source": [
        "## Chapter 3: Painting a Picture (Data Visualization)\n",
        "\n",
        "Let's create a beautiful visualization to see how the different species are distinguished by their features. The pairplot will help us see the relationships between all pairs of features.\n"
      ]
    },
    {
      "cell_type": "code",
      "execution_count": null,
      "metadata": {},
      "outputs": [],
      "source": [
        "sns.pairplot(flower_df, hue='species')\n",
        "plt.show()\n"
      ]
    },
    {
      "cell_type": "markdown",
      "metadata": {},
      "source": [
        "From the pairplot, we can see that the Iris-setosa species is easily separable from the other two. Iris-versicolor and Iris-virginica are more similar to each other, but we can still see some separation.\n"
      ]
    },
    {
      "cell_type": "markdown",
      "metadata": {},
      "source": [
        "## Chapter 4: Preparing the Soil (Data Preprocessing)\n",
        "\n",
        "Before we train our model, we need to prepare the data. We'll separate the features (X) from the target (y), which is the species of the flower.\n"
      ]
    },
    {
      "cell_type": "code",
      "execution_count": null,
      "metadata": {},
      "outputs": [],
      "source": [
        "# Separate Features (X) and Target (y)\n",
        "X = flower_df.drop('species', axis=1)\n",
        "y = flower_df['species']\n"
      ]
    },
    {
      "cell_type": "markdown",
      "metadata": {},
      "source": [
        "Next, we'll split our data into a training set and a testing set. The training set will be used to teach our model, and the testing set will be used to evaluate its performance.\n"
      ]
    },
    {
      "cell_type": "code",
      "execution_count": null,
      "metadata": {},
      "outputs": [],
      "source": [
        "from sklearn.model_selection import train_test_split\n",
        "X_train, X_test, y_train, y_test = train_test_split(X, y, test_size=0.2, random_state=42)\n"
      ]
    },
    {
      "cell_type": "markdown",
      "metadata": {},
      "source": [
        "## Chapter 5: The Oracle's Prediction (Training the Model)\n",
        "\n",
        "Now it's time to build our predictive model. We will use the K-Nearest Neighbors (KNN) algorithm, which is a simple yet powerful classification algorithm.\n"
      ]
    },
    {
      "cell_type": "code",
      "execution_count": null,
      "metadata": {},
      "outputs": [],
      "source": [
        "from sklearn.neighbors import KNeighborsClassifier\n",
        "\n",
        "model = KNeighborsClassifier(n_neighbors=3)\n",
        "model.fit(X_train, y_train)\n"
      ]
    },
    {
      "cell_type": "markdown",
      "metadata": {},
      "source": [
        "## Chapter 6: The Moment of Truth (Evaluating the Model)\n",
        "\n",
        "Our model has been trained! Let's see how well it performs on the test data.\n"
      ]
    },
    {
      "cell_type": "code",
      "execution_count": null,
      "metadata": {},
      "outputs": [],
      "source": [
        "from sklearn.metrics import accuracy_score, classification_report, confusion_matrix\n",
        "\n",
        "y_pred = model.predict(X_test)\n",
        "accuracy = accuracy_score(y_test, y_pred)\n",
        "print(f\"Model Accuracy: {accuracy:.2f}\")\n"
      ]
    },
    {
      "cell_type": "markdown",
      "metadata": {},
      "source": [
        "A perfect score! Our model is a true oracle. Let's look at the classification report for a more detailed breakdown.\n"
      ]
    },
    {
      "cell_type": "code",
      "execution_count": null,
      "metadata": {},
      "outputs": [],
      "source": [
        "print(\"\\nClassification Report:\")\n",
        "print(classification_report(y_test, y_pred))\n"
      ]
    },
    {
      "cell_type": "markdown",
      "metadata": {},
      "source": [
        "The confusion matrix will show us if there were any misclassifications.\n"
      ]
    },
    {
      "cell_type": "code",
      "execution_count": null,
      "metadata": {},
      "outputs": [],
      "source": [
        "print(\"\\nConfusion Matrix:\")\n",
        "cm = confusion_matrix(y_test, y_pred)\n",
        "print(cm)\n"
      ]
    },
    {
      "cell_type": "code",
      "execution_count": null,
      "metadata": {},
      "outputs": [],
      "source": [
        "plt.figure(figsize=(8, 6))\n",
        "sns.heatmap(cm, annot=True, fmt=\"d\", cmap=\"Blues\",\n",
        "            xticklabels=model.classes_, yticklabels=model.classes_)\n",
        "plt.xlabel(\"Predicted Species\")\n",
        "plt.ylabel(\"Actual Species\")\n",
        "plt.title(\"Confusion Matrix\")\n",
        "plt.show()\n"
      ]
    },
    {
      "cell_type": "markdown",
      "metadata": {},
      "source": [
        "**Conclusion:** Our journey has been a success! We've built a model that can perfectly classify Iris flowers based on their measurements. This notebook tells the story of our adventure, from the first seeds of data to the final bloom of a predictive model.\n"
      ]
    }
  ],
  "metadata": {
    "language_info": {
      "name": "python"
    }
  },
  "nbformat": 4,
  "nbformat_minor": 2
}
